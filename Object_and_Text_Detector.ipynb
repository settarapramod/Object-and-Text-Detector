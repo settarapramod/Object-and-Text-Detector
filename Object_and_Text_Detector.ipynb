{
  "nbformat": 4,
  "nbformat_minor": 0,
  "metadata": {
    "colab": {
      "name": "Object_and_Text_Detector.ipynb",
      "provenance": [],
      "collapsed_sections": []
    },
    "kernelspec": {
      "name": "python3",
      "display_name": "Python 3"
    },
    "language_info": {
      "name": "python"
    }
  },
  "cells": [
    {
      "cell_type": "markdown",
      "metadata": {
        "id": "OpakwDf3_st_"
      },
      "source": [
        "# Installing Dependencies"
      ]
    },
    {
      "cell_type": "code",
      "metadata": {
        "id": "3_5YiZCK_oCy"
      },
      "source": [
        "!sudo apt install tesseract-ocr\n",
        "!pip install pytesseract\n",
        "!pip install opencv-python\n",
        "!pip install imageai\n",
        "!sudo apt install libtesseract-dev\n",
        "\n",
        "print('\\nDone Installing...')"
      ],
      "execution_count": null,
      "outputs": []
    },
    {
      "cell_type": "markdown",
      "metadata": {
        "id": "xGWfIyKmAP-J"
      },
      "source": [
        "# Downloading required Models"
      ]
    },
    {
      "cell_type": "code",
      "metadata": {
        "id": "cTQYlRT7AcMn"
      },
      "source": [
        "!sudo wget https://github.com/OlafenwaMoses/ImageAI/releases/download/1.0/yolo.h5\n",
        "\n",
        "print('\\nDone downloading YOLO Model')"
      ],
      "execution_count": null,
      "outputs": []
    },
    {
      "cell_type": "markdown",
      "metadata": {
        "id": "5tTg9yL6DPUl"
      },
      "source": [
        "# Importing Required Packages"
      ]
    },
    {
      "cell_type": "code",
      "metadata": {
        "id": "03YJ5szhDS2f"
      },
      "source": [
        "from imageai.Detection import ObjectDetection\n",
        "import pytesseract\n",
        "import cv2\n",
        "from google.colab import files\n",
        "from google.colab.patches import cv2_imshow\n",
        "pytesseract.pytesseract.tesseract_cmd = r'/usr/bin/tesseract'\n",
        "print('\\nDone Importing...')\n"
      ],
      "execution_count": null,
      "outputs": []
    },
    {
      "cell_type": "markdown",
      "metadata": {
        "id": "Jv_P0gcjAztn"
      },
      "source": [
        "# Building Text and Object Detector"
      ]
    },
    {
      "cell_type": "code",
      "metadata": {
        "id": "RmtMYmDtv1kO"
      },
      "source": [
        "def detector(path):\n",
        "  detector = ObjectDetection()\n",
        "  model_path = \"yolo.h5\"\n",
        "  input_path = path\n",
        "  output_path = \"Result.jpg\"\n",
        "\n",
        "#############################################################\n",
        "  img = cv2.imread(input_path)\n",
        "  print('Text discovered in the given Image')\n",
        "  print(pytesseract.image_to_string(img))\n",
        "\n",
        "\n",
        "### Detecting Text in the Image\n",
        "\n",
        "  hImg,wImg,t = img.shape\n",
        "  boxes = pytesseract.image_to_data(img)\n",
        "  for x,b in enumerate(boxes.splitlines()):\n",
        "      if x!=0:\n",
        "          b = b.split()\n",
        "          if len(b)==12:\n",
        "              x,y,w,h = int(b[6]),int(b[7]),int(b[8]),int(b[9])\n",
        "              cv2.rectangle(img,(x,y),(w+x,h+y),(0,0,255),1)\n",
        "\n",
        "\n",
        "  cv2.imwrite('process.jpg',img)\n",
        "################################################################\n",
        "\n",
        "  detector.setModelTypeAsYOLOv3()\n",
        "\n",
        "\n",
        "  detector.setModelPath(model_path)\n",
        "\n",
        "  detector.loadModel()\n",
        "  detection = detector.detectObjectsFromImage(input_image='process.jpg', output_image_path=output_path)\n",
        "  print('Objects discovered in the given Image')\n",
        "  for eachItem in detection:\n",
        "      print(eachItem[\"name\"] , \" : \", eachItem[\"percentage_probability\"])\n",
        "#################################################################\n",
        "\n",
        "  # Displaying Image\n",
        "  print()\n",
        "  print()\n",
        "  from google.colab.patches import cv2_imshow\n",
        "  out = cv2.imread('Result.jpg')\n",
        "  resize = [0.8,0.8]\n",
        "  cv2_imshow(cv2.resize(out,(int(out.shape[1]*resize[0]),int(out.shape[0]*resize[0]))))\n"
      ],
      "execution_count": 7,
      "outputs": []
    },
    {
      "cell_type": "markdown",
      "metadata": {
        "id": "IUG73oSzG3Uy"
      },
      "source": [
        "# Upload your Image Here"
      ]
    },
    {
      "cell_type": "code",
      "metadata": {
        "id": "5wQyPxKlzj6r"
      },
      "source": [
        "uploaded = files.upload()\n",
        "print()\n",
        "names = list(uploaded.keys())\n",
        "input = cv2.imread(str(names[0]))\n",
        "resize = [0.8,0.8]\n",
        "cv2_imshow(cv2.resize(input,(int(input.shape[1]*resize[0]),int(input.shape[0]*resize[1]))))\n",
        "print()\n",
        "detector(str(names[0]))"
      ],
      "execution_count": null,
      "outputs": []
    }
  ]
}
